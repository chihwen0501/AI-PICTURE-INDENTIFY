{
  "nbformat": 4,
  "nbformat_minor": 0,
  "metadata": {
    "colab": {
      "provenance": [],
      "gpuType": "T4"
    },
    "kernelspec": {
      "name": "python3",
      "display_name": "Python 3"
    },
    "language_info": {
      "name": "python"
    },
    "accelerator": "GPU"
  },
  "cells": [
    {
      "cell_type": "markdown",
      "source": [
        "# 下載darknet儲存庫"
      ],
      "metadata": {
        "id": "j87RCIICVkVx"
      }
    },
    {
      "cell_type": "code",
      "source": [
        "!git clone https://github.com/AlexeyAB/darknet"
      ],
      "metadata": {
        "id": "CgVnYPg1Vj3h"
      },
      "execution_count": null,
      "outputs": []
    },
    {
      "cell_type": "markdown",
      "source": [
        "# 修改 Makefile 裡的參數"
      ],
      "metadata": {
        "id": "RprDCjf4VASg"
      }
    },
    {
      "cell_type": "code",
      "source": [
        "%cd darknet\n",
        "!sed -i 's/GPU=0/GPU=1/' Makefile\n",
        "!sed -i 's/OPENCV=0/OPENCV=1/' Makefile\n",
        "!sed -i 's/CUDNN=0/CUDNN=1/' Makefile\n",
        "!sed -i 's/CUDNN_HALF=0/CUDNN_HALF=1/' Makefile"
      ],
      "metadata": {
        "id": "_-8oWLZm6uz4"
      },
      "execution_count": null,
      "outputs": []
    },
    {
      "cell_type": "markdown",
      "source": [
        "## 生成學習引擎"
      ],
      "metadata": {
        "id": "OAsOrglHWBjG"
      }
    },
    {
      "cell_type": "code",
      "source": [
        "!make"
      ],
      "metadata": {
        "id": "o2nhsvtE60Yl"
      },
      "execution_count": null,
      "outputs": []
    },
    {
      "cell_type": "markdown",
      "source": [
        "# 預先測試darknet是否正常運作"
      ],
      "metadata": {
        "id": "9pvyWe3YWI1u"
      }
    },
    {
      "cell_type": "code",
      "source": [
        "download_from_official = False\n",
        "\n",
        "if download_from_official:\n",
        "  # download weights form official\n",
        "  !wget https://pjreddie.com/media/files/yolov3.weights\n",
        "  !wget https://pjreddie.com/media/files/darknet53.conv.74\n",
        "  !wget https://github.com/AlexeyAB/darknet/releases/download/darknet_yolo_v3_optimal/yolov4.weights\n",
        "  !wget https://github.com/AlexeyAB/darknet/releases/download/darknet_yolo_v3_optimal/yolov4.conv.137\n",
        "else:\n",
        "  # download weights form Jason Chen's google drive (should be faster)\n",
        "  !gdown https://drive.google.com/uc?id=1hSaT4Yc19atZZulW3Q3BUDFIohfGteXN\n",
        "  !gdown https://drive.google.com/uc?id=1XpMMC_eUfHKaIpfmxZa71IyocMW6ssCb\n",
        "  !gdown https://drive.google.com/uc?id=1vOlvou7Pgv36l-ahej5IIfYdb_9nmy0A\n",
        "  !gdown https://drive.google.com/uc?id=1Zl3rh0ZOPVj4DPZdae8WqqZU0NLX7Ncp"
      ],
      "metadata": {
        "id": "Wh1ZVflv7V-l"
      },
      "execution_count": null,
      "outputs": []
    },
    {
      "cell_type": "markdown",
      "source": [
        "# 進行預測（並使其呈現）"
      ],
      "metadata": {
        "id": "KYevQ_uRWuJH"
      }
    },
    {
      "cell_type": "markdown",
      "source": [
        "更換預測圖片可以從darknet的Github中的資料庫(data)尋找並更換"
      ],
      "metadata": {
        "id": "3oEH7ewSYPmr"
      }
    },
    {
      "cell_type": "code",
      "source": [
        "def imShow(path):\n",
        "  import cv2\n",
        "  import matplotlib.pyplot as plt\n",
        "  %matplotlib inline\n",
        "\n",
        "  image = cv2.imread(path)\n",
        "  height, width = image.shape[:2]\n",
        "  resized_image = cv2.resize(image,(3*width, 3*height), interpolation = cv2.INTER_CUBIC)\n",
        "\n",
        "  fig = plt.gcf()\n",
        "  fig.set_size_inches(18, 10)\n",
        "  plt.axis(\"off\")\n",
        "  plt.imshow(cv2.cvtColor(resized_image, cv2.COLOR_BGR2RGB))\n",
        "  plt.show()"
      ],
      "metadata": {
        "id": "qj2P70xw7p2G"
      },
      "execution_count": null,
      "outputs": []
    },
    {
      "cell_type": "code",
      "source": [
        "# run darknet detection\n",
        "!./darknet detect cfg/yolov3.cfg yolov3.weights data/horses.jpg\n",
        "\n",
        "# show result\n",
        "imShow('predictions.jpg')"
      ],
      "metadata": {
        "id": "-8GHF37P7-fS"
      },
      "execution_count": null,
      "outputs": []
    }
  ]
}